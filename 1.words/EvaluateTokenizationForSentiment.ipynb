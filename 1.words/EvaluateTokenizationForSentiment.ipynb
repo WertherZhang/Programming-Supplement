{
  "cells": [
    {
      "cell_type": "markdown",
      "metadata": {
        "id": "n53a5KC4BnKz"
      },
      "source": [
        "[![Open In Colab](https://colab.research.google.com/assets/colab-badge.svg)](https://colab.research.google.com/github/dbamman/anlp25/blob/main/1.words/EvaluateTokenizationForSentiment.ipynb)"
      ]
    },
    {
      "cell_type": "markdown",
      "metadata": {
        "id": "bpI_8eIm0zCV"
      },
      "source": [
        "# The impact of tokenization on downstream tasks\n",
        "\n",
        "Tokenization can have a big impact on downstream model performance. Here, we look at different methods for tokenization and stemming/lemmatization and evaluate how they affect the performance on a simple binary sentiment classification task.\n",
        "\n",
        "We use a train/dev deataset of 1000 reviews from the [Large Movie Review Dataset](http://ai.stanford.edu/~amaas/data/sentiment/).\n",
        "\n",
        "Each tokenization method is evaluated on the same learning algorithm ($l_2$-regularized logistic regression); the only difference is the tokenization process.\n",
        "\n",
        "For more, see: http://sentiment.christopherpotts.net/tokenizing.html."
      ]
    },
    {
      "cell_type": "code",
      "execution_count": 5,
      "metadata": {
        "id": "jj0huAdwBs0M",
        "colab": {
          "base_uri": "https://localhost:8080/"
        },
        "outputId": "34abdbd1-fff4-449f-cdc9-abb94d6f11ca"
      },
      "outputs": [
        {
          "output_type": "stream",
          "name": "stdout",
          "text": [
            "--2025-09-03 06:18:08--  https://raw.githubusercontent.com/dbamman/anlp25/main/1.words/happyfuntokenizing.py\n",
            "Resolving raw.githubusercontent.com (raw.githubusercontent.com)... 185.199.108.133, 185.199.109.133, 185.199.110.133, ...\n",
            "Connecting to raw.githubusercontent.com (raw.githubusercontent.com)|185.199.108.133|:443... connected.\n",
            "HTTP request sent, awaiting response... 200 OK\n",
            "Length: 7510 (7.3K) [text/plain]\n",
            "Saving to: ‘happyfuntokenizing.py’\n",
            "\n",
            "\rhappyfuntokenizing.   0%[                    ]       0  --.-KB/s               \rhappyfuntokenizing. 100%[===================>]   7.33K  --.-KB/s    in 0s      \n",
            "\n",
            "2025-09-03 06:18:08 (68.4 MB/s) - ‘happyfuntokenizing.py’ saved [7510/7510]\n",
            "\n",
            "--2025-09-03 06:18:08--  https://raw.githubusercontent.com/dbamman/anlp25/main/data/sentiment.1000.train.txt\n",
            "Resolving raw.githubusercontent.com (raw.githubusercontent.com)... 185.199.108.133, 185.199.109.133, 185.199.110.133, ...\n",
            "Connecting to raw.githubusercontent.com (raw.githubusercontent.com)|185.199.108.133|:443... connected.\n",
            "HTTP request sent, awaiting response... 200 OK\n",
            "Length: 1320314 (1.3M) [text/plain]\n",
            "Saving to: ‘sentiment.1000.train.txt’\n",
            "\n",
            "sentiment.1000.trai 100%[===================>]   1.26M  --.-KB/s    in 0.01s   \n",
            "\n",
            "2025-09-03 06:18:08 (107 MB/s) - ‘sentiment.1000.train.txt’ saved [1320314/1320314]\n",
            "\n",
            "--2025-09-03 06:18:08--  https://raw.githubusercontent.com/dbamman/anlp25/main/data/sentiment.1000.dev.txt\n",
            "Resolving raw.githubusercontent.com (raw.githubusercontent.com)... 185.199.110.133, 185.199.109.133, 185.199.108.133, ...\n",
            "Connecting to raw.githubusercontent.com (raw.githubusercontent.com)|185.199.110.133|:443... connected.\n",
            "HTTP request sent, awaiting response... 200 OK\n",
            "Length: 1374502 (1.3M) [text/plain]\n",
            "Saving to: ‘sentiment.1000.dev.txt’\n",
            "\n",
            "sentiment.1000.dev. 100%[===================>]   1.31M  --.-KB/s    in 0.01s   \n",
            "\n",
            "2025-09-03 06:18:08 (105 MB/s) - ‘sentiment.1000.dev.txt’ saved [1374502/1374502]\n",
            "\n"
          ]
        }
      ],
      "source": [
        "# download code and data\n",
        "!wget https://raw.githubusercontent.com/dbamman/anlp25/main/1.words/happyfuntokenizing.py\n",
        "\n",
        "!wget https://raw.githubusercontent.com/dbamman/anlp25/main/data/sentiment.1000.train.txt\n",
        "!wget https://raw.githubusercontent.com/dbamman/anlp25/main/data/sentiment.1000.dev.txt"
      ]
    },
    {
      "cell_type": "code",
      "execution_count": 6,
      "metadata": {
        "colab": {
          "base_uri": "https://localhost:8080/"
        },
        "id": "ilzhlzK_0zCW",
        "outputId": "3ca76171-6cdb-4f01-cdeb-c504d90c8d83"
      },
      "outputs": [
        {
          "output_type": "stream",
          "name": "stdout",
          "text": [
            "Requirement already satisfied: nltk in /usr/local/lib/python3.12/dist-packages (3.9.1)\n",
            "Requirement already satisfied: click in /usr/local/lib/python3.12/dist-packages (from nltk) (8.2.1)\n",
            "Requirement already satisfied: joblib in /usr/local/lib/python3.12/dist-packages (from nltk) (1.5.1)\n",
            "Requirement already satisfied: regex>=2021.8.3 in /usr/local/lib/python3.12/dist-packages (from nltk) (2024.11.6)\n",
            "Requirement already satisfied: tqdm in /usr/local/lib/python3.12/dist-packages (from nltk) (4.67.1)\n",
            "Requirement already satisfied: spacy in /usr/local/lib/python3.12/dist-packages (3.8.7)\n",
            "Requirement already satisfied: spacy-legacy<3.1.0,>=3.0.11 in /usr/local/lib/python3.12/dist-packages (from spacy) (3.0.12)\n",
            "Requirement already satisfied: spacy-loggers<2.0.0,>=1.0.0 in /usr/local/lib/python3.12/dist-packages (from spacy) (1.0.5)\n",
            "Requirement already satisfied: murmurhash<1.1.0,>=0.28.0 in /usr/local/lib/python3.12/dist-packages (from spacy) (1.0.13)\n",
            "Requirement already satisfied: cymem<2.1.0,>=2.0.2 in /usr/local/lib/python3.12/dist-packages (from spacy) (2.0.11)\n",
            "Requirement already satisfied: preshed<3.1.0,>=3.0.2 in /usr/local/lib/python3.12/dist-packages (from spacy) (3.0.10)\n",
            "Requirement already satisfied: thinc<8.4.0,>=8.3.4 in /usr/local/lib/python3.12/dist-packages (from spacy) (8.3.6)\n",
            "Requirement already satisfied: wasabi<1.2.0,>=0.9.1 in /usr/local/lib/python3.12/dist-packages (from spacy) (1.1.3)\n",
            "Requirement already satisfied: srsly<3.0.0,>=2.4.3 in /usr/local/lib/python3.12/dist-packages (from spacy) (2.5.1)\n",
            "Requirement already satisfied: catalogue<2.1.0,>=2.0.6 in /usr/local/lib/python3.12/dist-packages (from spacy) (2.0.10)\n",
            "Requirement already satisfied: weasel<0.5.0,>=0.1.0 in /usr/local/lib/python3.12/dist-packages (from spacy) (0.4.1)\n",
            "Requirement already satisfied: typer<1.0.0,>=0.3.0 in /usr/local/lib/python3.12/dist-packages (from spacy) (0.16.1)\n",
            "Requirement already satisfied: tqdm<5.0.0,>=4.38.0 in /usr/local/lib/python3.12/dist-packages (from spacy) (4.67.1)\n",
            "Requirement already satisfied: numpy>=1.19.0 in /usr/local/lib/python3.12/dist-packages (from spacy) (2.0.2)\n",
            "Requirement already satisfied: requests<3.0.0,>=2.13.0 in /usr/local/lib/python3.12/dist-packages (from spacy) (2.32.4)\n",
            "Requirement already satisfied: pydantic!=1.8,!=1.8.1,<3.0.0,>=1.7.4 in /usr/local/lib/python3.12/dist-packages (from spacy) (2.11.7)\n",
            "Requirement already satisfied: jinja2 in /usr/local/lib/python3.12/dist-packages (from spacy) (3.1.6)\n",
            "Requirement already satisfied: setuptools in /usr/local/lib/python3.12/dist-packages (from spacy) (75.2.0)\n",
            "Requirement already satisfied: packaging>=20.0 in /usr/local/lib/python3.12/dist-packages (from spacy) (25.0)\n",
            "Requirement already satisfied: langcodes<4.0.0,>=3.2.0 in /usr/local/lib/python3.12/dist-packages (from spacy) (3.5.0)\n",
            "Requirement already satisfied: language-data>=1.2 in /usr/local/lib/python3.12/dist-packages (from langcodes<4.0.0,>=3.2.0->spacy) (1.3.0)\n",
            "Requirement already satisfied: annotated-types>=0.6.0 in /usr/local/lib/python3.12/dist-packages (from pydantic!=1.8,!=1.8.1,<3.0.0,>=1.7.4->spacy) (0.7.0)\n",
            "Requirement already satisfied: pydantic-core==2.33.2 in /usr/local/lib/python3.12/dist-packages (from pydantic!=1.8,!=1.8.1,<3.0.0,>=1.7.4->spacy) (2.33.2)\n",
            "Requirement already satisfied: typing-extensions>=4.12.2 in /usr/local/lib/python3.12/dist-packages (from pydantic!=1.8,!=1.8.1,<3.0.0,>=1.7.4->spacy) (4.15.0)\n",
            "Requirement already satisfied: typing-inspection>=0.4.0 in /usr/local/lib/python3.12/dist-packages (from pydantic!=1.8,!=1.8.1,<3.0.0,>=1.7.4->spacy) (0.4.1)\n",
            "Requirement already satisfied: charset_normalizer<4,>=2 in /usr/local/lib/python3.12/dist-packages (from requests<3.0.0,>=2.13.0->spacy) (3.4.3)\n",
            "Requirement already satisfied: idna<4,>=2.5 in /usr/local/lib/python3.12/dist-packages (from requests<3.0.0,>=2.13.0->spacy) (3.10)\n",
            "Requirement already satisfied: urllib3<3,>=1.21.1 in /usr/local/lib/python3.12/dist-packages (from requests<3.0.0,>=2.13.0->spacy) (2.5.0)\n",
            "Requirement already satisfied: certifi>=2017.4.17 in /usr/local/lib/python3.12/dist-packages (from requests<3.0.0,>=2.13.0->spacy) (2025.8.3)\n",
            "Requirement already satisfied: blis<1.4.0,>=1.3.0 in /usr/local/lib/python3.12/dist-packages (from thinc<8.4.0,>=8.3.4->spacy) (1.3.0)\n",
            "Requirement already satisfied: confection<1.0.0,>=0.0.1 in /usr/local/lib/python3.12/dist-packages (from thinc<8.4.0,>=8.3.4->spacy) (0.1.5)\n",
            "Requirement already satisfied: click>=8.0.0 in /usr/local/lib/python3.12/dist-packages (from typer<1.0.0,>=0.3.0->spacy) (8.2.1)\n",
            "Requirement already satisfied: shellingham>=1.3.0 in /usr/local/lib/python3.12/dist-packages (from typer<1.0.0,>=0.3.0->spacy) (1.5.4)\n",
            "Requirement already satisfied: rich>=10.11.0 in /usr/local/lib/python3.12/dist-packages (from typer<1.0.0,>=0.3.0->spacy) (13.9.4)\n",
            "Requirement already satisfied: cloudpathlib<1.0.0,>=0.7.0 in /usr/local/lib/python3.12/dist-packages (from weasel<0.5.0,>=0.1.0->spacy) (0.21.1)\n",
            "Requirement already satisfied: smart-open<8.0.0,>=5.2.1 in /usr/local/lib/python3.12/dist-packages (from weasel<0.5.0,>=0.1.0->spacy) (7.3.0.post1)\n",
            "Requirement already satisfied: MarkupSafe>=2.0 in /usr/local/lib/python3.12/dist-packages (from jinja2->spacy) (3.0.2)\n",
            "Requirement already satisfied: marisa-trie>=1.1.0 in /usr/local/lib/python3.12/dist-packages (from language-data>=1.2->langcodes<4.0.0,>=3.2.0->spacy) (1.3.0)\n",
            "Requirement already satisfied: markdown-it-py>=2.2.0 in /usr/local/lib/python3.12/dist-packages (from rich>=10.11.0->typer<1.0.0,>=0.3.0->spacy) (4.0.0)\n",
            "Requirement already satisfied: pygments<3.0.0,>=2.13.0 in /usr/local/lib/python3.12/dist-packages (from rich>=10.11.0->typer<1.0.0,>=0.3.0->spacy) (2.19.2)\n",
            "Requirement already satisfied: wrapt in /usr/local/lib/python3.12/dist-packages (from smart-open<8.0.0,>=5.2.1->weasel<0.5.0,>=0.1.0->spacy) (1.17.3)\n",
            "Requirement already satisfied: mdurl~=0.1 in /usr/local/lib/python3.12/dist-packages (from markdown-it-py>=2.2.0->rich>=10.11.0->typer<1.0.0,>=0.3.0->spacy) (0.1.2)\n",
            "Requirement already satisfied: scikit-learn in /usr/local/lib/python3.12/dist-packages (1.6.1)\n",
            "Requirement already satisfied: numpy>=1.19.5 in /usr/local/lib/python3.12/dist-packages (from scikit-learn) (2.0.2)\n",
            "Requirement already satisfied: scipy>=1.6.0 in /usr/local/lib/python3.12/dist-packages (from scikit-learn) (1.16.1)\n",
            "Requirement already satisfied: joblib>=1.2.0 in /usr/local/lib/python3.12/dist-packages (from scikit-learn) (1.5.1)\n",
            "Requirement already satisfied: threadpoolctl>=3.1.0 in /usr/local/lib/python3.12/dist-packages (from scikit-learn) (3.6.0)\n"
          ]
        }
      ],
      "source": [
        "# make sure dependencies are installed\n",
        "!pip install nltk\n",
        "!pip install spacy\n",
        "!pip install scikit-learn"
      ]
    },
    {
      "cell_type": "code",
      "execution_count": 7,
      "metadata": {
        "id": "pOu0wKUqBnK6",
        "colab": {
          "base_uri": "https://localhost:8080/"
        },
        "outputId": "9f05880a-b880-49f4-de97-db58efb2d1e3"
      },
      "outputs": [
        {
          "output_type": "stream",
          "name": "stderr",
          "text": [
            "[nltk_data] Downloading package punkt to /root/nltk_data...\n",
            "[nltk_data]   Package punkt is already up-to-date!\n",
            "[nltk_data] Downloading package punkt_tab to /root/nltk_data...\n",
            "[nltk_data]   Package punkt_tab is already up-to-date!\n"
          ]
        }
      ],
      "source": [
        "import nltk\n",
        "nltk.download('punkt')\n",
        "nltk.download('punkt_tab')\n",
        "\n",
        "import spacy\n",
        "from nltk.stem.porter import *\n",
        "from sklearn.feature_extraction.text import CountVectorizer\n",
        "from sklearn.preprocessing import LabelEncoder\n",
        "from sklearn import linear_model\n",
        "\n",
        "\n",
        "from happyfuntokenizing import Tokenizer as potts"
      ]
    },
    {
      "cell_type": "markdown",
      "metadata": {
        "id": "-4Upgd0W0zCX"
      },
      "source": [
        "## Setting up evaluation\n",
        "We'll set up a class that we can use to test different tokenization methods."
      ]
    },
    {
      "cell_type": "code",
      "execution_count": 8,
      "metadata": {
        "id": "0aZKMP_g0zCX"
      },
      "outputs": [],
      "source": [
        "class TokenizationTest():\n",
        "\n",
        "    def __init__(self, train_file, dev_file):\n",
        "        self.train_file = train_file\n",
        "        self.dev_file = dev_file\n",
        "        self.count_vectorizer = CountVectorizer(\n",
        "            max_features=10_000,\n",
        "            analyzer=lambda x: x,\n",
        "            lowercase=False,\n",
        "            strip_accents=None,\n",
        "            binary=True\n",
        "        )\n",
        "        self.label_encoder = LabelEncoder()\n",
        "\n",
        "    def read_data(self, filename, tokenizer):\n",
        "        tokenized_text = []\n",
        "        labels = []\n",
        "\n",
        "        with open(filename, encoding=\"utf-8\") as file:\n",
        "            for idx, line in enumerate(file):\n",
        "                cols = line.rstrip().split(\"\\t\")\n",
        "                label = cols[0]\n",
        "                text = cols[1]\n",
        "                tokens = list(tokenizer(text))\n",
        "                tokenized_text.append(tokens)\n",
        "                labels.append(label)\n",
        "        return tokenized_text, labels\n",
        "\n",
        "    def evaluate(self, tokenizer):\n",
        "        train_tokens, train_labels = self.read_data(self.train_file, tokenizer)\n",
        "        dev_tokens, dev_labels = self.read_data(self.dev_file, tokenizer)\n",
        "\n",
        "        X_train = self.count_vectorizer.fit_transform(train_tokens)\n",
        "        X_dev = self.count_vectorizer.transform(dev_tokens)\n",
        "\n",
        "        self.label_encoder.fit(train_labels)\n",
        "        Y_train = self.label_encoder.transform(train_labels)\n",
        "        Y_dev = self.label_encoder.transform(dev_labels)\n",
        "\n",
        "        model = linear_model.LogisticRegression(C=1.0, solver='lbfgs', penalty='l2')\n",
        "        model.fit(X_train, Y_train)\n",
        "        print(\"Function '%s' Accuracy: %.3f\" % (tokenizer.__name__, model.score(X_dev, Y_dev)))"
      ]
    },
    {
      "cell_type": "markdown",
      "metadata": {
        "id": "Q2H4e9w00zCX"
      },
      "source": [
        "## Setting up tokenizers\n",
        "\n",
        "Now let's set up our tokenizers. Each tokenizer should take as input a string and output a list of strings. We'll try six different tokenization methods.\n",
        "\n",
        "1. Splitting on whitespace with `str.split()`\n",
        "2. Splitting on whitespace, then stemming with the [Porter stemmer](https://tartarus.org/martin/PorterStemmer/)\n",
        "3. Using [`nltk.word_tokenize`](https://www.nltk.org/api/nltk.tokenize.word_tokenize.html)\n",
        "4. Using the [`spacy` tokenizer](https://spacy.io/usage/linguistic-features#how-tokenizer-works)\n",
        "5. Using the [`spacy` tokenizer](https://spacy.io/usage/linguistic-features#how-tokenizer-works) with [lemmatization](https://spacy.io/api/lemmatizer)\n",
        "6. Using the [Potts tokenizer](http://sentiment.christopherpotts.net/tokenizing.html) (implemented for you in `happyfuntokenization.py`)\n",
        "\n",
        "Note: evaluating the spacy tokenizers might take ~1 minute."
      ]
    },
    {
      "cell_type": "code",
      "execution_count": 9,
      "metadata": {
        "id": "hOuQtB2o0zCY"
      },
      "outputs": [],
      "source": [
        "# load NLTK porter stemmer\n",
        "stemmer = PorterStemmer()\n",
        "def tokenize_with_porter(data):\n",
        "    return [\n",
        "        stemmer.stem(word) for word in str.split(data)\n",
        "    ]"
      ]
    },
    {
      "cell_type": "code",
      "execution_count": 10,
      "metadata": {
        "id": "2xxgxawHBnK7"
      },
      "outputs": [],
      "source": [
        "# spaCy lemmatization needs tagger but disable the rest\n",
        "nlp = spacy.load('en_core_web_sm', disable=['ner,parser'])\n",
        "nlp.remove_pipe('ner')\n",
        "nlp.remove_pipe('parser')\n",
        "\n",
        "def tokenize_with_spacy(data):\n",
        "    spacy_tokens = nlp(data)\n",
        "    return [token.text for token in spacy_tokens]\n",
        "\n",
        "def tokenize_with_spacy_lemma(data):\n",
        "    spacy_tokens = nlp(data)\n",
        "    return [token.lemma_ for token in spacy_tokens]"
      ]
    },
    {
      "cell_type": "code",
      "execution_count": 11,
      "metadata": {
        "id": "qoYzZe2l0zCY"
      },
      "outputs": [],
      "source": [
        "# load Potts sentiment tokenizer\n",
        "potts_tokenizer = potts()\n",
        "def tokenize_with_potts(data):\n",
        "    return list(potts_tokenizer.tokenize(data))"
      ]
    },
    {
      "cell_type": "markdown",
      "metadata": {
        "id": "LK-waGBC0zCY"
      },
      "source": [
        "## Testing the tokenizers"
      ]
    },
    {
      "cell_type": "code",
      "execution_count": 12,
      "metadata": {
        "id": "Iw5uOlNXBnK8"
      },
      "outputs": [],
      "source": [
        "tester = TokenizationTest(\"sentiment.1000.train.txt\", \"sentiment.1000.dev.txt\")"
      ]
    },
    {
      "cell_type": "code",
      "execution_count": 9,
      "metadata": {
        "colab": {
          "base_uri": "https://localhost:8080/"
        },
        "id": "M8wJxbZi0zCY",
        "outputId": "7662b69b-cc94-4aac-f7bf-05452c1494be"
      },
      "outputs": [
        {
          "output_type": "stream",
          "name": "stdout",
          "text": [
            "Function 'split' Accuracy: 0.858\n"
          ]
        }
      ],
      "source": [
        "tester.evaluate(str.split)"
      ]
    },
    {
      "cell_type": "code",
      "execution_count": 10,
      "metadata": {
        "colab": {
          "base_uri": "https://localhost:8080/"
        },
        "id": "MZMJ04-_0zCZ",
        "outputId": "6014126a-064f-47c4-d646-f18339123ff2"
      },
      "outputs": [
        {
          "output_type": "stream",
          "name": "stdout",
          "text": [
            "Function 'tokenize_with_porter' Accuracy: 0.866\n"
          ]
        }
      ],
      "source": [
        "tester.evaluate(tokenize_with_porter)"
      ]
    },
    {
      "cell_type": "code",
      "execution_count": 12,
      "metadata": {
        "id": "sbGK8OqoBnK9",
        "colab": {
          "base_uri": "https://localhost:8080/"
        },
        "outputId": "1eaf796b-a365-4774-a582-316a019eeb38"
      },
      "outputs": [
        {
          "output_type": "stream",
          "name": "stdout",
          "text": [
            "Function 'word_tokenize' Accuracy: 0.874\n"
          ]
        }
      ],
      "source": [
        "tester.evaluate(nltk.word_tokenize)"
      ]
    },
    {
      "cell_type": "code",
      "execution_count": 13,
      "metadata": {
        "id": "_5QIVUcdBnK-",
        "colab": {
          "base_uri": "https://localhost:8080/"
        },
        "outputId": "afb3ae83-087c-42f2-d1d5-0754d5811f09"
      },
      "outputs": [
        {
          "output_type": "stream",
          "name": "stdout",
          "text": [
            "Function 'tokenize_with_spacy' Accuracy: 0.872\n"
          ]
        }
      ],
      "source": [
        "tester.evaluate(tokenize_with_spacy)"
      ]
    },
    {
      "cell_type": "code",
      "execution_count": 14,
      "metadata": {
        "id": "MjaRF32LBnK-",
        "colab": {
          "base_uri": "https://localhost:8080/"
        },
        "outputId": "aca09fad-ac53-462a-b135-7d5355429aea"
      },
      "outputs": [
        {
          "output_type": "stream",
          "name": "stdout",
          "text": [
            "Function 'tokenize_with_spacy_lemma' Accuracy: 0.872\n"
          ]
        }
      ],
      "source": [
        "tester.evaluate(tokenize_with_spacy_lemma)"
      ]
    },
    {
      "cell_type": "code",
      "execution_count": 15,
      "metadata": {
        "id": "eGGoA0TiBnK-",
        "colab": {
          "base_uri": "https://localhost:8080/"
        },
        "outputId": "b71edeae-0382-457c-c12c-a2049af26bef"
      },
      "outputs": [
        {
          "output_type": "stream",
          "name": "stdout",
          "text": [
            "Function 'tokenize_with_potts' Accuracy: 0.883\n"
          ]
        }
      ],
      "source": [
        "tester.evaluate(tokenize_with_potts)"
      ]
    },
    {
      "cell_type": "markdown",
      "metadata": {
        "id": "GcoK3eFX0zCZ"
      },
      "source": [
        "## Extra"
      ]
    },
    {
      "cell_type": "markdown",
      "metadata": {
        "id": "PhAnWGN90zCZ"
      },
      "source": [
        "Inspect the output of some of these tokenizers. How do different tokenizers handle some of the issues we talked about in lecture (e.g., punctuation, emoticons, casing)?"
      ]
    },
    {
      "cell_type": "code",
      "execution_count": 15,
      "metadata": {
        "colab": {
          "base_uri": "https://localhost:8080/"
        },
        "id": "1XZGLLSK0zCZ",
        "outputId": "8420b1b3-1468-49c8-8365-a58e07a5f4a2"
      },
      "outputs": [
        {
          "output_type": "execute_result",
          "data": {
            "text/plain": [
              "['i',\n",
              " 'love',\n",
              " 'applied',\n",
              " 'natural',\n",
              " 'language',\n",
              " 'processing',\n",
              " ',',\n",
              " 'and',\n",
              " 'i',\n",
              " 'hope',\n",
              " 'that',\n",
              " 'i',\n",
              " 'can',\n",
              " 'get',\n",
              " 'enrolled',\n",
              " 'in',\n",
              " 'this',\n",
              " 'course',\n",
              " '!']"
            ]
          },
          "metadata": {},
          "execution_count": 15
        }
      ],
      "source": [
        "tokenize_with_potts(\"I love Applied Natural Language Processing, and I hope that I can get enrolled in this course!\")  # modify this to test different tokenizers / different strings"
      ]
    },
    {
      "cell_type": "markdown",
      "metadata": {
        "id": "6w72TPdG0zCZ"
      },
      "source": [
        "The Potts tokenizer was designed with web text in mind, with special hand-crafted rules for emoticons, HTML tags, and hashtags. Can you approach the performance of the Potts tokenizer (>0.88) by combining some of the other methods we test?"
      ]
    },
    {
      "cell_type": "code",
      "source": [
        "def my_tokenizer(data: str) -> list[str]:\n",
        "    \"\"\"Tokenize the `data` string into a list of strings.\"\"\"\n",
        "    import re, html\n",
        "\n",
        "    if not data:\n",
        "        return []\n",
        "\n",
        "    # compact regexes\n",
        "    EMOTICON = r\"(?:(?:[:;=8][\\-o\\*']?[\\)\\]\\(\\[dDpP/:}\\{@\\|\\\\])|(?:[\\)\\]\\(\\[dDpP/:}\\{@\\|\\\\][\\-o\\*']?[:;=8]))\"\n",
        "    URL      = r\"(?:https?://\\S+|www\\.\\S+)\"\n",
        "    EMAIL    = r\"(?:[A-Za-z0-9._%+\\-]+@[A-Za-z0-9.\\-]+\\.[A-Za-z]{2,})\"\n",
        "    MENTION  = r\"(?:@\\w{1,50})\"\n",
        "    HASHTAG  = r\"(?:#[A-Za-z0-9_]+)\"\n",
        "    HTMLTAG  = r\"(?:</?[\\w!][^>]*>)\"\n",
        "    NUM      = r\"(?:\\d+(?:[.,]\\d+)*(?:%|[kKmMbB])?)\"\n",
        "    WORD     = r\"(?:[A-Za-z]+(?:'[A-Za-z]+)*)\"\n",
        "    PUNCT    = r\"(?:[^\\w\\s])\"\n",
        "\n",
        "    MASTER_RE = re.compile(\"|\".join([EMOTICON, HTMLTAG, URL, EMAIL, MENTION, HASHTAG, NUM, WORD, PUNCT]), re.IGNORECASE)\n",
        "    EMOTICON_RE = re.compile(EMOTICON)\n",
        "    URL_RE = re.compile(URL, re.IGNORECASE)\n",
        "    EMAIL_RE = re.compile(EMAIL, re.IGNORECASE)\n",
        "    MENTION_RE = re.compile(MENTION)\n",
        "    HASHTAG_RE = re.compile(HASHTAG)\n",
        "    HTMLTAG_RE = re.compile(HTMLTAG)\n",
        "    NUM_RE = re.compile(NUM)\n",
        "\n",
        "    # Porter stemmer\n",
        "    try:\n",
        "        _stem = stemmer.stem\n",
        "    except Exception:\n",
        "        _stem = lambda w: w\n",
        "\n",
        "    # preprocess\n",
        "    text = html.unescape(data).replace(\"\\u200d\", \" \")\n",
        "    text = HTMLTAG_RE.sub(\" \", text)\n",
        "    text = re.sub(r\"\\s+\", \" \", text).strip()\n",
        "\n",
        "    # tokenize\n",
        "    raw = [m.group(0) for m in MASTER_RE.finditer(text)]\n",
        "\n",
        "    def _normalize(tok: str) -> list[str]:\n",
        "        if EMOTICON_RE.fullmatch(tok): return [tok]\n",
        "        if URL_RE.fullmatch(tok):      return [\"__URL__\"]\n",
        "        if EMAIL_RE.fullmatch(tok):    return [\"__EMAIL__\"]\n",
        "        if MENTION_RE.fullmatch(tok):  return [\"__USER__\"]\n",
        "        if NUM_RE.fullmatch(tok):      return [\"__NUM__\"]\n",
        "        if HASHTAG_RE.fullmatch(tok):\n",
        "            base = tok.lower()\n",
        "            out = [base]\n",
        "            inner = base[1:]\n",
        "            parts = re.split(r\"_+\", inner)\n",
        "            split_more = []\n",
        "            for p in parts:\n",
        "                split_more += re.findall(r\"[A-Z]?[a-z]+|[A-Z]+(?=[A-Z]|$)|\\d+\", p)\n",
        "            out.extend([s.lower() for s in split_more if s])\n",
        "            return out\n",
        "        if HTMLTAG_RE.fullmatch(tok):  return []\n",
        "        return [tok.lower()]\n",
        "\n",
        "    normed = []\n",
        "    for t in raw:\n",
        "        normed.extend(_normalize(t))\n",
        "    normed = [t for t in normed if t]\n",
        "\n",
        "    collapsed = []\n",
        "    for t in normed:\n",
        "        if len(t) > 1 and not any(ch.isalnum() for ch in t) and len(set(t)) == 1:\n",
        "            collapsed.append(t[0])\n",
        "        else:\n",
        "            collapsed.append(t)\n",
        "\n",
        "    final = [(_stem(t) if t.isalpha() and len(t) > 2 else t) for t in collapsed]\n",
        "    return final"
      ],
      "metadata": {
        "id": "qUmnKfe4OJPW"
      },
      "execution_count": 16,
      "outputs": []
    },
    {
      "cell_type": "code",
      "source": [
        "tester.evaluate(my_tokenizer)"
      ],
      "metadata": {
        "id": "_55pbv9VOOTI",
        "outputId": "74fc034b-8fd2-4c9b-ed02-f2095f4e17db",
        "colab": {
          "base_uri": "https://localhost:8080/"
        }
      },
      "execution_count": 17,
      "outputs": [
        {
          "output_type": "stream",
          "name": "stdout",
          "text": [
            "Function 'my_tokenizer' Accuracy: 0.881\n"
          ]
        }
      ]
    },
    {
      "cell_type": "code",
      "execution_count": null,
      "metadata": {
        "id": "dBcOJf8i0zCZ"
      },
      "outputs": [],
      "source": []
    }
  ],
  "metadata": {
    "colab": {
      "provenance": []
    },
    "kernelspec": {
      "display_name": "Python 3 (ipykernel)",
      "language": "python",
      "name": "python3"
    },
    "language_info": {
      "codemirror_mode": {
        "name": "ipython",
        "version": 3
      },
      "file_extension": ".py",
      "mimetype": "text/x-python",
      "name": "python",
      "nbconvert_exporter": "python",
      "pygments_lexer": "ipython3",
      "version": "3.13.5"
    }
  },
  "nbformat": 4,
  "nbformat_minor": 0
}